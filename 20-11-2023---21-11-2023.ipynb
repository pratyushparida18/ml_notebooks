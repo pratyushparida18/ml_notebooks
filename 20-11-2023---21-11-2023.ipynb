{
 "cells": [
  {
   "cell_type": "markdown",
   "id": "5c420579",
   "metadata": {},
   "source": [
    "### Numpy"
   ]
  },
  {
   "cell_type": "markdown",
   "id": "e3f7387f",
   "metadata": {},
   "source": [
    "NumPy is an amazing scientific computing library that is used by numerous other Python Data Science libraries. It contains many mathematical, array and string functions that are extremely useful. Along with all the basic math functions you'll also find them for Linear Algebra, Statistics, Simulation, etc.\n",
    "\n",
    "I recommend that you use the Jupyter setup I use with Anaconda so that you'll have access to all of NumPys dependencies.\n",
    "\n",
    "NumPy utilizes vector (1D Arrays) and matrice arrays (2D Arrays)."
   ]
  },
  {
   "cell_type": "markdown",
   "id": "9110f3c4",
   "metadata": {},
   "source": [
    "#### Advantages of numpyh arrays over lists\n",
    "\n",
    "Performance: NumPy arrays are implemented in C and are more efficient for numerical operations compared to Python lists. The underlying array operations are highly optimized, leading to faster execution of mathematical operations.\n",
    "\n",
    "Memory Efficiency: NumPy arrays are more memory-efficient than Python lists. The memory layout of NumPy arrays is contiguous, and the data type of each element is fixed, allowing for better memory management. In contrast, Python lists can store elements of different data types, which leads to additional memory overhead.\n",
    "\n",
    "Vectorization: NumPy supports vectorized operations, which means you can apply operations to entire arrays at once without the need for explicit loops. This leads to concise and readable code and takes advantage of optimized C and Fortran code for these operations.\n",
    "\n",
    "Broadcasting: NumPy allows for broadcasting, a powerful feature that enables arithmetic operations between arrays of different shapes and sizes. This can simplify code and eliminate the need for explicit loops or element-wise operations."
   ]
  },
  {
   "cell_type": "markdown",
   "id": "3604bf77",
   "metadata": {},
   "source": [
    "#### Creation"
   ]
  },
  {
   "cell_type": "code",
   "execution_count": 8,
   "id": "b33932a6",
   "metadata": {},
   "outputs": [
    {
     "name": "stdout",
     "output_type": "stream",
     "text": [
      "[1 2 3 4 5]\n",
      "<class 'numpy.ndarray'>\n",
      "1\n"
     ]
    }
   ],
   "source": [
    "import numpy as np\n",
    "\n",
    "list_1 = [1, 2, 3, 4, 5]\n",
    "np_arr_1 = np.array(list_1, dtype=np.int8)\n",
    "print(np_arr_1)\n",
    "print(type(np_arr_1))\n",
    "print(np_arr_1.ndim)"
   ]
  },
  {
   "cell_type": "code",
   "execution_count": 7,
   "id": "84346fe7",
   "metadata": {},
   "outputs": [
    {
     "data": {
      "text/plain": [
       "array([1, 2, 3, 4, 5, 6, 7, 8, 9])"
      ]
     },
     "execution_count": 7,
     "metadata": {},
     "output_type": "execute_result"
    }
   ],
   "source": [
    "np.arange(1, 10) # using arange"
   ]
  },
  {
   "cell_type": "markdown",
   "id": "dd6af513",
   "metadata": {},
   "source": [
    "#### Creating n dimentional arrays"
   ]
  },
  {
   "cell_type": "code",
   "execution_count": 9,
   "id": "69d9f948",
   "metadata": {},
   "outputs": [
    {
     "name": "stdout",
     "output_type": "stream",
     "text": [
      "[[[[[1 2 3 4 5]]]]]\n",
      "5\n"
     ]
    }
   ],
   "source": [
    "np_arr_1 = np.array([1, 2, 3, 4, 5], ndmin =5)\n",
    "print(np_arr_1)\n",
    "print(np_arr_1.ndim)"
   ]
  },
  {
   "cell_type": "markdown",
   "id": "c6798fdd",
   "metadata": {},
   "source": [
    "#### With floats define start, end and number of values"
   ]
  },
  {
   "cell_type": "code",
   "execution_count": 12,
   "id": "2278b647",
   "metadata": {},
   "outputs": [
    {
     "data": {
      "text/plain": [
       "array([0.        , 0.83333333, 1.66666667, 2.5       , 3.33333333,\n",
       "       4.16666667, 5.        ])"
      ]
     },
     "execution_count": 12,
     "metadata": {},
     "output_type": "execute_result"
    }
   ],
   "source": [
    "np.linspace(0, 5, 7)"
   ]
  },
  {
   "cell_type": "code",
   "execution_count": null,
   "id": "acb59ccc",
   "metadata": {},
   "outputs": [],
   "source": []
  },
  {
   "cell_type": "raw",
   "id": "684fd065",
   "metadata": {},
   "source": [
    "#### Creating zeros arrays"
   ]
  },
  {
   "cell_type": "code",
   "execution_count": 13,
   "id": "62090586",
   "metadata": {},
   "outputs": [
    {
     "data": {
      "text/plain": [
       "array([0., 0., 0., 0.])"
      ]
     },
     "execution_count": 13,
     "metadata": {},
     "output_type": "execute_result"
    }
   ],
   "source": [
    "np.zeros(4)"
   ]
  },
  {
   "cell_type": "code",
   "execution_count": 14,
   "id": "1d159754",
   "metadata": {},
   "outputs": [
    {
     "data": {
      "text/plain": [
       "array([[0., 0., 0., 0.],\n",
       "       [0., 0., 0., 0.],\n",
       "       [0., 0., 0., 0.]])"
      ]
     },
     "execution_count": 14,
     "metadata": {},
     "output_type": "execute_result"
    }
   ],
   "source": [
    "np.zeros((3,4))"
   ]
  },
  {
   "cell_type": "markdown",
   "id": "a50cc1ae",
   "metadata": {},
   "source": [
    "#### Creating ones arrays"
   ]
  },
  {
   "cell_type": "code",
   "execution_count": 15,
   "id": "2b0688d5",
   "metadata": {},
   "outputs": [
    {
     "data": {
      "text/plain": [
       "array([1., 1., 1., 1.])"
      ]
     },
     "execution_count": 15,
     "metadata": {},
     "output_type": "execute_result"
    }
   ],
   "source": [
    "np.ones(4)"
   ]
  },
  {
   "cell_type": "code",
   "execution_count": 16,
   "id": "7b3bb837",
   "metadata": {},
   "outputs": [
    {
     "data": {
      "text/plain": [
       "array([[0., 0., 0., 0.],\n",
       "       [0., 0., 0., 0.],\n",
       "       [0., 0., 0., 0.]])"
      ]
     },
     "execution_count": 16,
     "metadata": {},
     "output_type": "execute_result"
    }
   ],
   "source": [
    "np.zeros((3,4))"
   ]
  },
  {
   "cell_type": "markdown",
   "id": "af2306e9",
   "metadata": {},
   "source": [
    "#### Creating Empty arrays"
   ]
  },
  {
   "cell_type": "code",
   "execution_count": 18,
   "id": "d26f6d7a",
   "metadata": {},
   "outputs": [
    {
     "data": {
      "text/plain": [
       "array([1., 1., 1., 1.])"
      ]
     },
     "execution_count": 18,
     "metadata": {},
     "output_type": "execute_result"
    }
   ],
   "source": [
    "np.empty(4) # Here previous data is filled in the array"
   ]
  },
  {
   "cell_type": "markdown",
   "id": "4e438280",
   "metadata": {},
   "source": [
    "#### Creating identity matrix"
   ]
  },
  {
   "cell_type": "code",
   "execution_count": 19,
   "id": "45af5648",
   "metadata": {},
   "outputs": [
    {
     "data": {
      "text/plain": [
       "array([[1., 0., 0.],\n",
       "       [0., 1., 0.],\n",
       "       [0., 0., 1.]])"
      ]
     },
     "execution_count": 19,
     "metadata": {},
     "output_type": "execute_result"
    }
   ],
   "source": [
    "np.eye(3)"
   ]
  },
  {
   "cell_type": "code",
   "execution_count": 20,
   "id": "12174625",
   "metadata": {},
   "outputs": [
    {
     "data": {
      "text/plain": [
       "array([[1., 0., 0., 0., 0.],\n",
       "       [0., 1., 0., 0., 0.],\n",
       "       [0., 0., 1., 0., 0.]])"
      ]
     },
     "execution_count": 20,
     "metadata": {},
     "output_type": "execute_result"
    }
   ],
   "source": [
    "np.eye(3,5)"
   ]
  },
  {
   "cell_type": "markdown",
   "id": "b44f373c",
   "metadata": {},
   "source": [
    "#### Creating arrays with random numbers"
   ]
  },
  {
   "cell_type": "code",
   "execution_count": 21,
   "id": "b6cc65b2",
   "metadata": {},
   "outputs": [
    {
     "data": {
      "text/plain": [
       "array([0.3083215 , 0.79204673, 0.85505762, 0.17681684])"
      ]
     },
     "execution_count": 21,
     "metadata": {},
     "output_type": "execute_result"
    }
   ],
   "source": [
    "np.random.rand(4) # It creates arrays with values between 0 and 1"
   ]
  },
  {
   "cell_type": "code",
   "execution_count": 22,
   "id": "e5d02832",
   "metadata": {},
   "outputs": [
    {
     "data": {
      "text/plain": [
       "array([[0.23787541, 0.22523375, 0.51099439, 0.4400952 , 0.1047542 ],\n",
       "       [0.79447018, 0.0499384 , 0.65411814, 0.36313423, 0.85946398]])"
      ]
     },
     "execution_count": 22,
     "metadata": {},
     "output_type": "execute_result"
    }
   ],
   "source": [
    "np.random.rand(2,5)"
   ]
  },
  {
   "cell_type": "code",
   "execution_count": 23,
   "id": "83438754",
   "metadata": {},
   "outputs": [
    {
     "data": {
      "text/plain": [
       "array([-0.03928958,  0.64808719, -1.30353039,  0.77370022, -1.96036871])"
      ]
     },
     "execution_count": 23,
     "metadata": {},
     "output_type": "execute_result"
    }
   ],
   "source": [
    "np.random.randn(5)# It will create array with values close to 0 and will contain values with positive and negative number"
   ]
  },
  {
   "cell_type": "code",
   "execution_count": 28,
   "id": "1e4aaf92",
   "metadata": {},
   "outputs": [
    {
     "data": {
      "text/plain": [
       "array([0.35667793, 0.2014459 , 0.30812767, 0.68685875, 0.80146659])"
      ]
     },
     "execution_count": 28,
     "metadata": {},
     "output_type": "execute_result"
    }
   ],
   "source": [
    "np.random.ranf(5) # It will create array with values containing 0 and not including 5"
   ]
  },
  {
   "cell_type": "code",
   "execution_count": 29,
   "id": "259a04ff",
   "metadata": {},
   "outputs": [
    {
     "data": {
      "text/plain": [
       "array([ 5, 15, 12, 18,  9])"
      ]
     },
     "execution_count": 29,
     "metadata": {},
     "output_type": "execute_result"
    }
   ],
   "source": [
    "np.random.randint(5,20,5)  # It will create arrays containg 5 values between 5 and 20"
   ]
  },
  {
   "cell_type": "markdown",
   "id": "9dd9fd0f",
   "metadata": {},
   "source": [
    "#### Datatypes in numpy\n",
    "\n",
    "bool: Boolean (True or False) stored as a byte\n",
    "\n",
    "int8, int16, int32, int64: Signed integers with different bit depths (8, 16, 32, or 64 bits)\n",
    "\n",
    "uint8, uint16, uint32, uint64: Unsigned integers with different bit depths (8, 16, 32, or 64 bits)\n",
    "\n",
    "float16, float32, float64, float128: Floating-point numbers with different precision (16, 32, 64, or 128 bits)\n",
    "\n",
    "complex64, complex128, complex256: Complex numbers with different precision (64, 128, or 256 bits)\n",
    "\n",
    "object: Python object type, allowing any Python object to be stored in the array\n",
    "\n",
    "string_: Variable-length ASCII string type (use S followed by a number for fixed-size strings, e.g., S10 for a 10-character string)\n",
    "\n",
    "unicode_: Variable-length Unicode string type (use U followed by a number for fixed-size strings, e.g., U10 for a 10-character Unicode string)"
   ]
  },
  {
   "cell_type": "code",
   "execution_count": 31,
   "id": "ad2fce5a",
   "metadata": {},
   "outputs": [
    {
     "name": "stdout",
     "output_type": "stream",
     "text": [
      "bool array: [ True False  True]\n",
      "Data type: bool\n",
      "\n"
     ]
    }
   ],
   "source": [
    "arr_bool = np.array([True, False, True])\n",
    "print(\"bool array:\", arr_bool)\n",
    "print(\"Data type:\", arr_bool.dtype)\n",
    "print()"
   ]
  },
  {
   "cell_type": "code",
   "execution_count": 32,
   "id": "bfaea278",
   "metadata": {},
   "outputs": [
    {
     "name": "stdout",
     "output_type": "stream",
     "text": [
      "int8 array: [-128    0  127]\n",
      "Data type: int8\n"
     ]
    }
   ],
   "source": [
    "arr_int8 = np.array([-128, 0, 127], dtype=np.int8)\n",
    "print(\"int8 array:\", arr_int8)\n",
    "print(\"Data type:\", arr_int8.dtype)"
   ]
  },
  {
   "cell_type": "code",
   "execution_count": 33,
   "id": "0ee6b8aa",
   "metadata": {},
   "outputs": [
    {
     "name": "stdout",
     "output_type": "stream",
     "text": [
      "float16 array: [1.   2.5  3.75]\n",
      "Data type: float16\n",
      "\n"
     ]
    }
   ],
   "source": [
    "arr_float16 = np.array([1.0, 2.5, 3.75], dtype=np.float16)\n",
    "print(\"float16 array:\", arr_float16)\n",
    "print(\"Data type:\", arr_float16.dtype)\n",
    "print()"
   ]
  },
  {
   "cell_type": "code",
   "execution_count": 34,
   "id": "fd203f87",
   "metadata": {},
   "outputs": [
    {
     "name": "stdout",
     "output_type": "stream",
     "text": [
      "complex64 array: [1.+2.j 3.+4.j 5.+6.j]\n",
      "Data type: complex64\n",
      "\n"
     ]
    }
   ],
   "source": [
    "arr_complex64 = np.array([1 + 2j, 3 + 4j, 5 + 6j], dtype=np.complex64)\n",
    "print(\"complex64 array:\", arr_complex64)\n",
    "print(\"Data type:\", arr_complex64.dtype)\n",
    "print()"
   ]
  },
  {
   "cell_type": "code",
   "execution_count": 38,
   "id": "c087d0c9",
   "metadata": {},
   "outputs": [
    {
     "name": "stdout",
     "output_type": "stream",
     "text": [
      "object array: [1 'hello' list([3.14, 2.71])]\n",
      "Data type: object\n"
     ]
    }
   ],
   "source": [
    "arr_object = np.array([1, 'hello', [3.14, 2.71]], dtype=object)\n",
    "print(\"object array:\", arr_object)\n",
    "print(\"Data type:\", arr_object.dtype)\n"
   ]
  },
  {
   "cell_type": "code",
   "execution_count": 39,
   "id": "0592e912",
   "metadata": {},
   "outputs": [
    {
     "name": "stdout",
     "output_type": "stream",
     "text": [
      "string_ array: ['abc' 'def' 'ghi']\n",
      "Data type: <U3\n",
      "\n"
     ]
    }
   ],
   "source": [
    "arr_string = np.array(['abc', 'def', 'ghi'], dtype=np.str_)\n",
    "print(\"string_ array:\", arr_string)\n",
    "print(\"Data type:\", arr_string.dtype)\n",
    "print()"
   ]
  },
  {
   "cell_type": "code",
   "execution_count": 40,
   "id": "be495753",
   "metadata": {},
   "outputs": [
    {
     "name": "stdout",
     "output_type": "stream",
     "text": [
      "unicode_ array: ['αβγ' 'δεζ' 'ηθι']\n",
      "Data type: <U3\n"
     ]
    }
   ],
   "source": [
    "arr_unicode = np.array(['αβγ', 'δεζ', 'ηθι'], dtype=np.unicode_)\n",
    "print(\"unicode_ array:\", arr_unicode)\n",
    "print(\"Data type:\", arr_unicode.dtype)"
   ]
  },
  {
   "cell_type": "code",
   "execution_count": 41,
   "id": "8b4bad09",
   "metadata": {},
   "outputs": [],
   "source": [
    "# To convert it into any other datatype use astype"
   ]
  },
  {
   "cell_type": "markdown",
   "id": "a42e4069",
   "metadata": {},
   "source": [
    "#### Shape"
   ]
  },
  {
   "cell_type": "code",
   "execution_count": 43,
   "id": "ac732182",
   "metadata": {},
   "outputs": [
    {
     "name": "stdout",
     "output_type": "stream",
     "text": [
      "[[1 2 3 4]\n",
      " [5 6 7 8]]\n",
      "(2, 4)\n"
     ]
    }
   ],
   "source": [
    "var = np.array([[1,2,3,4],[5,6,7,8]])\n",
    "print(var)\n",
    "print(var.shape)"
   ]
  },
  {
   "cell_type": "code",
   "execution_count": 45,
   "id": "ac50a9a9",
   "metadata": {},
   "outputs": [
    {
     "data": {
      "text/plain": [
       "array([[1, 2],\n",
       "       [3, 4],\n",
       "       [5, 6],\n",
       "       [7, 8]])"
      ]
     },
     "execution_count": 45,
     "metadata": {},
     "output_type": "execute_result"
    }
   ],
   "source": [
    "var.reshape(4,2)"
   ]
  },
  {
   "cell_type": "code",
   "execution_count": 46,
   "id": "ec80eb2f",
   "metadata": {},
   "outputs": [
    {
     "data": {
      "text/plain": [
       "array([1, 2, 3, 4, 5, 6, 7, 8])"
      ]
     },
     "execution_count": 46,
     "metadata": {},
     "output_type": "execute_result"
    }
   ],
   "source": [
    "var.reshape(-1)"
   ]
  },
  {
   "cell_type": "code",
   "execution_count": 51,
   "id": "4f535115",
   "metadata": {},
   "outputs": [
    {
     "name": "stdout",
     "output_type": "stream",
     "text": [
      "Original Array:\n",
      "[[1 2 3]\n",
      " [4 5 6]]\n",
      "Shape: (2, 3)\n",
      "\n",
      "Resized Array:\n",
      "[[1 2 3 4 5]\n",
      " [6 1 2 3 4]\n",
      " [5 6 1 2 3]\n",
      " [4 5 6 1 2]\n",
      " [3 4 5 6 1]]\n",
      "Shape: (5, 5)\n"
     ]
    }
   ],
   "source": [
    "original_array = np.array([[1, 2, 3], [4, 5, 6]])\n",
    "\n",
    "print(\"Original Array:\")\n",
    "print(original_array)\n",
    "print(\"Shape:\", original_array.shape)\n",
    "print()\n",
    "\n",
    "resized_array = np.resize(original_array, (5, 5))\n",
    "\n",
    "print(\"Resized Array:\")\n",
    "print(resized_array)\n",
    "print(\"Shape:\", resized_array.shape)"
   ]
  },
  {
   "cell_type": "markdown",
   "id": "06ef594a",
   "metadata": {},
   "source": [
    "On resizing the the elements will be added sequentially or truncated accordingly"
   ]
  },
  {
   "cell_type": "code",
   "execution_count": 52,
   "id": "a7f7640e",
   "metadata": {},
   "outputs": [
    {
     "data": {
      "text/plain": [
       "array([[1, 6, 5, 4, 3],\n",
       "       [2, 1, 6, 5, 4],\n",
       "       [3, 2, 1, 6, 5],\n",
       "       [4, 3, 2, 1, 6],\n",
       "       [5, 4, 3, 2, 1]])"
      ]
     },
     "execution_count": 52,
     "metadata": {},
     "output_type": "execute_result"
    }
   ],
   "source": [
    "resized_array.transpose()"
   ]
  },
  {
   "cell_type": "code",
   "execution_count": 59,
   "id": "ea2045a0",
   "metadata": {},
   "outputs": [
    {
     "name": "stdout",
     "output_type": "stream",
     "text": [
      "Original Array:\n",
      "[[1 2 3]\n",
      " [4 5 6]]\n",
      "\n",
      "Resized Array:\n",
      "[[1 2 3 4]\n",
      " [5 6 1 2]\n",
      " [3 4 5 6]]\n",
      "\n",
      "Swapped (Transposed) Array:\n",
      "[[1 5 3]\n",
      " [2 6 4]\n",
      " [3 1 5]\n",
      " [4 2 6]]\n"
     ]
    }
   ],
   "source": [
    "# Create a sample array\n",
    "original_array = np.array([[1, 2, 3], [4, 5, 6]])\n",
    "\n",
    "# Resize the array to a new shape\n",
    "resized_array = np.resize(original_array, (3, 4))\n",
    "\n",
    "# Swap the axes (transpose the array)\n",
    "swapped_array = resized_array.swapaxes(0, 1)\n",
    "\n",
    "# Print the original, resized, and swapped arrays\n",
    "print(\"Original Array:\")\n",
    "print(original_array)\n",
    "print(\"\\nResized Array:\")\n",
    "print(resized_array)\n",
    "print(\"\\nSwapped (Transposed) Array:\")\n",
    "print(swapped_array)"
   ]
  },
  {
   "cell_type": "code",
   "execution_count": 55,
   "id": "6df457e8",
   "metadata": {},
   "outputs": [
    {
     "data": {
      "text/plain": [
       "array([1, 5, 3, 2, 6, 4, 3, 1, 5, 4, 2, 6])"
      ]
     },
     "execution_count": 55,
     "metadata": {},
     "output_type": "execute_result"
    }
   ],
   "source": [
    "swapped_array.flatten()#row wise"
   ]
  },
  {
   "cell_type": "code",
   "execution_count": 58,
   "id": "5ce28fec",
   "metadata": {},
   "outputs": [
    {
     "data": {
      "text/plain": [
       "array([1, 2, 3, 4, 5, 6, 1, 2, 3, 4, 5, 6])"
      ]
     },
     "execution_count": 58,
     "metadata": {},
     "output_type": "execute_result"
    }
   ],
   "source": [
    "swapped_array.flatten('F')#column wise"
   ]
  },
  {
   "cell_type": "code",
   "execution_count": 60,
   "id": "fa3a20aa",
   "metadata": {},
   "outputs": [
    {
     "name": "stdout",
     "output_type": "stream",
     "text": [
      "[[1 3 5]\n",
      " [2 4 6]\n",
      " [1 3 5]\n",
      " [2 4 6]]\n"
     ]
    }
   ],
   "source": [
    "# Sort rows\n",
    "swapped_array.sort(axis=1)\n",
    "print(swapped_array)"
   ]
  },
  {
   "cell_type": "code",
   "execution_count": 61,
   "id": "54945a9d",
   "metadata": {},
   "outputs": [
    {
     "data": {
      "text/plain": [
       "array([[1, 3, 5],\n",
       "       [1, 3, 5],\n",
       "       [2, 4, 6],\n",
       "       [2, 4, 6]])"
      ]
     },
     "execution_count": 61,
     "metadata": {},
     "output_type": "execute_result"
    }
   ],
   "source": [
    "# Sort columns\n",
    "swapped_array.sort(axis=0)\n",
    "swapped_array"
   ]
  },
  {
   "cell_type": "markdown",
   "id": "5e6c11bb",
   "metadata": {},
   "source": [
    "#### Arithmetic operation"
   ]
  },
  {
   "cell_type": "markdown",
   "id": "e7cae8fe",
   "metadata": {},
   "source": [
    "On 1d arrays"
   ]
  },
  {
   "cell_type": "code",
   "execution_count": 64,
   "id": "e27d9f54",
   "metadata": {},
   "outputs": [
    {
     "name": "stdout",
     "output_type": "stream",
     "text": [
      "Addition:\n",
      "[ 7  9 11 13 15]\n",
      "\n",
      "Subtraction:\n",
      "[-5 -5 -5 -5 -5]\n",
      "\n",
      "Multiplication:\n",
      "[ 6 14 24 36 50]\n",
      "\n",
      "Division:\n",
      "[0.16666667 0.28571429 0.375      0.44444444 0.5       ]\n",
      "\n",
      "Element-wise Square:\n",
      "[ 1  4  9 16 25]\n",
      "\n",
      "Element-wise Square Root:\n",
      "[1.         1.41421356 1.73205081 2.         2.23606798]\n",
      "\n",
      "Element-wise Exponential:\n",
      "[  2.71828183   7.3890561   20.08553692  54.59815003 148.4131591 ]\n",
      "Modulus (remainder when divided by 3):\n",
      "[1 2 0 1 2]\n",
      "\n",
      "Power (square each element):\n",
      "[ 1  4  9 16 25]\n",
      "\n",
      "Reciprocal (1/x for each element):\n",
      "[1.         0.5        0.33333333 0.25       0.2       ]\n"
     ]
    }
   ],
   "source": [
    "import numpy as np\n",
    "\n",
    "# Create two 1D arrays\n",
    "array1 = np.array([1, 2, 3, 4, 5])\n",
    "array2 = np.array([6, 7, 8, 9, 10])\n",
    "\n",
    "# Addition\n",
    "result_addition = array1 + array2\n",
    "# result_addition = np.add(array1,array2)\n",
    "print(\"Addition:\")\n",
    "print(result_addition)\n",
    "\n",
    "# Subtraction\n",
    "result_subtraction = array1 - array2\n",
    "# result_subtraction = np.subtract(array1,array2)\n",
    "print(\"\\nSubtraction:\")\n",
    "print(result_subtraction)\n",
    "\n",
    "# Multiplication\n",
    "result_multiplication = array1 * array2\n",
    "# result_multiplication = np.multiply(array1,array2)\n",
    "print(\"\\nMultiplication:\")\n",
    "print(result_multiplication)\n",
    "\n",
    "# Division\n",
    "result_division = array1 / array2\n",
    "# result_division = np.divide(array1,array2)\n",
    "print(\"\\nDivision:\")\n",
    "print(result_division)\n",
    "\n",
    "# Element-wise square\n",
    "result_square = array1**2\n",
    "# result_square = np.square(array1)\n",
    "print(\"\\nElement-wise Square:\")\n",
    "print(result_square)\n",
    "\n",
    "# Element-wise square root\n",
    "result_sqrt = np.sqrt(array1)\n",
    "print(\"\\nElement-wise Square Root:\")\n",
    "print(result_sqrt)\n",
    "\n",
    "# Element-wise exponential\n",
    "result_exp = np.exp(array1)\n",
    "print(\"\\nElement-wise Exponential:\")\n",
    "print(result_exp)\n",
    "\n",
    "# Modulus\n",
    "result_modulus = np.mod(array1, 3)\n",
    "print(\"Modulus (remainder when divided by 3):\")\n",
    "print(result_modulus)\n",
    "\n",
    "# Power\n",
    "result_power = np.power(array1, 2)\n",
    "print(\"\\nPower (square each element):\")\n",
    "print(result_power)\n",
    "\n",
    "# Reciprocal\n",
    "result_reciprocal = np.reciprocal(array1.astype(float))  # reciprocal function requires floating-point input\n",
    "print(\"\\nReciprocal (1/x for each element):\")\n",
    "print(result_reciprocal)"
   ]
  },
  {
   "cell_type": "code",
   "execution_count": 66,
   "id": "9cbcbecf",
   "metadata": {},
   "outputs": [
    {
     "name": "stdout",
     "output_type": "stream",
     "text": [
      "Minimum Value: 1\n",
      "Maximum Value: 9\n",
      "\n",
      "Index of Minimum Value: 2\n",
      "Index of Maximum Value: 3\n",
      "\n",
      "Sine of the Array:\n",
      "[ 0.14112001  0.6569866   0.84147098  0.41211849  0.90929743 -0.95892427]\n",
      "\n",
      "Cosine of the Array:\n",
      "[-0.9899925   0.75390225  0.54030231 -0.91113026 -0.41614684  0.28366219]\n",
      "\n",
      "Cumulative Sum of the Array:\n",
      "[ 3 10 11 20 22 27]\n"
     ]
    }
   ],
   "source": [
    "array = np.array([3, 7, 1, 9, 2, 5])\n",
    "\n",
    "# Minimum and Maximum\n",
    "min_value = np.min(array)\n",
    "max_value = np.max(array)\n",
    "print(\"Minimum Value:\", min_value)\n",
    "print(\"Maximum Value:\", max_value)\n",
    "\n",
    "# Index of Minimum and Maximum\n",
    "argmin_index = np.argmin(array)\n",
    "argmax_index = np.argmax(array)\n",
    "print(\"\\nIndex of Minimum Value:\", argmin_index)\n",
    "print(\"Index of Maximum Value:\", argmax_index)\n",
    "\n",
    "# Sine and Cosine\n",
    "sin_array = np.sin(array)\n",
    "cos_array = np.cos(array)\n",
    "print(\"\\nSine of the Array:\")\n",
    "print(sin_array)\n",
    "print(\"\\nCosine of the Array:\")\n",
    "print(cos_array)\n",
    "\n",
    "# Cumulative Sum\n",
    "cumsum_array = np.cumsum(array)\n",
    "print(\"\\nCumulative Sum of the Array:\")\n",
    "print(cumsum_array)\n"
   ]
  },
  {
   "cell_type": "code",
   "execution_count": null,
   "id": "358cdf2b",
   "metadata": {},
   "outputs": [],
   "source": []
  },
  {
   "cell_type": "markdown",
   "id": "01052a56",
   "metadata": {},
   "source": [
    "On 2d arrays"
   ]
  },
  {
   "cell_type": "code",
   "execution_count": 67,
   "id": "617de2f1",
   "metadata": {},
   "outputs": [
    {
     "name": "stdout",
     "output_type": "stream",
     "text": [
      "Addition (2D):\n",
      "[[12 14 16 18 20]\n",
      " [22 24 26 28 30]]\n",
      "\n",
      "Subtraction (2D):\n",
      "[[-10 -10 -10 -10 -10]\n",
      " [-10 -10 -10 -10 -10]]\n",
      "\n",
      "Multiplication (2D):\n",
      "[[ 11  24  39  56  75]\n",
      " [ 96 119 144 171 200]]\n",
      "\n",
      "Division (2D):\n",
      "[[0.09090909 0.16666667 0.23076923 0.28571429 0.33333333]\n",
      " [0.375      0.41176471 0.44444444 0.47368421 0.5       ]]\n",
      "\n",
      "Element-wise Square (2D):\n",
      "[[  1   4   9  16  25]\n",
      " [ 36  49  64  81 100]]\n",
      "\n",
      "Element-wise Square Root (2D):\n",
      "[[1.         1.41421356 1.73205081 2.         2.23606798]\n",
      " [2.44948974 2.64575131 2.82842712 3.         3.16227766]]\n",
      "\n",
      "Element-wise Exponential (2D):\n",
      "[[2.71828183e+00 7.38905610e+00 2.00855369e+01 5.45981500e+01\n",
      "  1.48413159e+02]\n",
      " [4.03428793e+02 1.09663316e+03 2.98095799e+03 8.10308393e+03\n",
      "  2.20264658e+04]]\n",
      "\n",
      "Modulus (remainder when divided by 3) (2D):\n",
      "[[1 2 0 1 2]\n",
      " [0 1 2 0 1]]\n",
      "\n",
      "Power (square each element) (2D):\n",
      "[[  1   4   9  16  25]\n",
      " [ 36  49  64  81 100]]\n",
      "\n",
      "Reciprocal (1/x for each element) (2D):\n",
      "[[1.         0.5        0.33333333 0.25       0.2       ]\n",
      " [0.16666667 0.14285714 0.125      0.11111111 0.1       ]]\n",
      "\n",
      "Minimum Value (2D): 1\n",
      "Maximum Value (2D): 10\n",
      "\n",
      "Index of Minimum Value (2D): 0\n",
      "Index of Maximum Value (2D): 9\n",
      "\n",
      "Sine of the Array (2D):\n",
      "[[ 0.84147098  0.90929743  0.14112001 -0.7568025  -0.95892427]\n",
      " [-0.2794155   0.6569866   0.98935825  0.41211849 -0.54402111]]\n",
      "\n",
      "Cosine of the Array (2D):\n",
      "[[ 0.54030231 -0.41614684 -0.9899925  -0.65364362  0.28366219]\n",
      " [ 0.96017029  0.75390225 -0.14550003 -0.91113026 -0.83907153]]\n",
      "\n",
      "Cumulative Sum of the Array (2D):\n",
      "[ 1  3  6 10 15 21 28 36 45 55]\n"
     ]
    }
   ],
   "source": [
    "import numpy as np\n",
    "\n",
    "# Create two 2D arrays\n",
    "array1_2d = np.array([[1, 2, 3, 4, 5], [6, 7, 8, 9, 10]])\n",
    "array2_2d = np.array([[11, 12, 13, 14, 15], [16, 17, 18, 19, 20]])\n",
    "\n",
    "# Addition\n",
    "result_addition_2d = array1_2d + array2_2d\n",
    "print(\"Addition (2D):\")\n",
    "print(result_addition_2d)\n",
    "\n",
    "# Subtraction\n",
    "result_subtraction_2d = array1_2d - array2_2d\n",
    "print(\"\\nSubtraction (2D):\")\n",
    "print(result_subtraction_2d)\n",
    "\n",
    "# Multiplication\n",
    "result_multiplication_2d = array1_2d * array2_2d\n",
    "print(\"\\nMultiplication (2D):\")\n",
    "print(result_multiplication_2d)\n",
    "\n",
    "# Division\n",
    "result_division_2d = array1_2d / array2_2d\n",
    "print(\"\\nDivision (2D):\")\n",
    "print(result_division_2d)\n",
    "\n",
    "# Element-wise square\n",
    "result_square_2d = array1_2d**2\n",
    "print(\"\\nElement-wise Square (2D):\")\n",
    "print(result_square_2d)\n",
    "\n",
    "# Element-wise square root\n",
    "result_sqrt_2d = np.sqrt(array1_2d)\n",
    "print(\"\\nElement-wise Square Root (2D):\")\n",
    "print(result_sqrt_2d)\n",
    "\n",
    "# Element-wise exponential\n",
    "result_exp_2d = np.exp(array1_2d)\n",
    "print(\"\\nElement-wise Exponential (2D):\")\n",
    "print(result_exp_2d)\n",
    "\n",
    "# Modulus\n",
    "result_modulus_2d = np.mod(array1_2d, 3)\n",
    "print(\"\\nModulus (remainder when divided by 3) (2D):\")\n",
    "print(result_modulus_2d)\n",
    "\n",
    "# Power\n",
    "result_power_2d = np.power(array1_2d, 2)\n",
    "print(\"\\nPower (square each element) (2D):\")\n",
    "print(result_power_2d)\n",
    "\n",
    "# Reciprocal\n",
    "result_reciprocal_2d = np.reciprocal(array1_2d.astype(float))  # reciprocal function requires floating-point input\n",
    "print(\"\\nReciprocal (1/x for each element) (2D):\")\n",
    "print(result_reciprocal_2d)\n",
    "\n",
    "# Minimum and Maximum\n",
    "min_value_2d = np.min(array1_2d)\n",
    "max_value_2d = np.max(array1_2d)\n",
    "print(\"\\nMinimum Value (2D):\", min_value_2d)\n",
    "print(\"Maximum Value (2D):\", max_value_2d)\n",
    "\n",
    "# Index of Minimum and Maximum\n",
    "argmin_index_2d = np.argmin(array1_2d)\n",
    "argmax_index_2d = np.argmax(array1_2d)\n",
    "print(\"\\nIndex of Minimum Value (2D):\", argmin_index_2d)\n",
    "print(\"Index of Maximum Value (2D):\", argmax_index_2d)\n",
    "\n",
    "# Sine and Cosine\n",
    "sin_array_2d = np.sin(array1_2d)\n",
    "cos_array_2d = np.cos(array1_2d)\n",
    "print(\"\\nSine of the Array (2D):\")\n",
    "print(sin_array_2d)\n",
    "print(\"\\nCosine of the Array (2D):\")\n",
    "print(cos_array_2d)\n",
    "\n",
    "# Cumulative Sum\n",
    "cumsum_array_2d = np.cumsum(array1_2d)\n",
    "print(\"\\nCumulative Sum of the Array (2D):\")\n",
    "print(cumsum_array_2d)\n"
   ]
  },
  {
   "cell_type": "markdown",
   "id": "2a1ea4d0",
   "metadata": {},
   "source": [
    "#### Broadcasting"
   ]
  },
  {
   "cell_type": "markdown",
   "id": "d0925f98",
   "metadata": {},
   "source": [
    "Broadcasting is a powerful feature in NumPy that allows for performing operations on arrays of different shapes and sizes, making it possible to operate on arrays that would otherwise be incompatible. The smaller array is \"broadcast\" across the larger array so that they have compatible shapes for element-wise operations.\n",
    "\n",
    "The basic idea behind broadcasting is to automatically expand the smaller array to have the same shape as the larger array, so that element-wise operations can be performed without requiring explicit replication of the smaller array."
   ]
  },
  {
   "cell_type": "markdown",
   "id": "47893176",
   "metadata": {},
   "source": [
    "NumPy follows a set of rules to determine whether two arrays are compatible for broadcasting:\n",
    "\n",
    "Dimension Compatibility Rule:\n",
    "If the arrays have a different number of dimensions, pad the smaller-dimensional array's shape with ones on its left side.\n",
    "\n",
    "Size Compatibility Rule:\n",
    "If, after applying the dimension compatibility rule, the sizes along a particular dimension don't match:\n",
    "If one of them is 1, it is stretched or \"broadcast\" along that dimension to match the size of the other.\n",
    "If neither size is 1 and they differ, broadcasting is not possible, and it raises an error."
   ]
  },
  {
   "cell_type": "code",
   "execution_count": 68,
   "id": "98596f8a",
   "metadata": {},
   "outputs": [
    {
     "name": "stdout",
     "output_type": "stream",
     "text": [
      "Array x:\n",
      "[[1 2 3]\n",
      " [4 5 6]]\n",
      "\n",
      "Array y:\n",
      "[10 20 30]\n",
      "\n",
      "Result of Broadcasting (x + y):\n",
      "[[11 22 33]\n",
      " [14 25 36]]\n"
     ]
    }
   ],
   "source": [
    "import numpy as np\n",
    "\n",
    "x = np.array([[1, 2, 3], [4, 5, 6]])\n",
    "y = np.array([10, 20, 30])\n",
    "\n",
    "# Broadcasting x and y to perform element-wise addition\n",
    "result = x + y\n",
    "\n",
    "print(\"Array x:\")\n",
    "print(x)\n",
    "print(\"\\nArray y:\")\n",
    "print(y)\n",
    "print(\"\\nResult of Broadcasting (x + y):\")\n",
    "print(result)\n"
   ]
  },
  {
   "cell_type": "markdown",
   "id": "ed5721aa",
   "metadata": {},
   "source": [
    "#### Indexing and Slicing"
   ]
  },
  {
   "cell_type": "code",
   "execution_count": 72,
   "id": "e21001d5",
   "metadata": {},
   "outputs": [
    {
     "data": {
      "text/plain": [
       "2"
      ]
     },
     "execution_count": 72,
     "metadata": {},
     "output_type": "execute_result"
    }
   ],
   "source": [
    "list_1 = [1, 2, 3, 4, 5]\n",
    "var = np.array(list_1, dtype=np.int8)\n",
    "\n",
    "var[1]"
   ]
  },
  {
   "cell_type": "code",
   "execution_count": 76,
   "id": "0e32cf6f",
   "metadata": {},
   "outputs": [
    {
     "data": {
      "text/plain": [
       "3"
      ]
     },
     "execution_count": 76,
     "metadata": {},
     "output_type": "execute_result"
    }
   ],
   "source": [
    "var2 = np.array([[1,2,3],[4,5,6]])\n",
    "var2[0,2]"
   ]
  },
  {
   "cell_type": "code",
   "execution_count": 78,
   "id": "e76c47af",
   "metadata": {},
   "outputs": [
    {
     "name": "stdout",
     "output_type": "stream",
     "text": [
      "Slice 1:\n",
      "[[ 6  7]\n",
      " [10 11]]\n",
      "\n",
      "Slice 2:\n",
      "[[1 2 3 4]\n",
      " [5 6 7 8]]\n",
      "\n",
      "Slice 3:\n",
      "[[ 3  4]\n",
      " [ 7  8]\n",
      " [11 12]]\n",
      "\n",
      "Slice 4:\n",
      "[[ 7  8]\n",
      " [11 12]]\n",
      "\n",
      "Slice 5:\n",
      "[[ 1  3]\n",
      " [ 9 11]]\n",
      "Filtered Values:\n",
      "[6 7 8 9]\n"
     ]
    }
   ],
   "source": [
    "\n",
    "arr_2d = np.array([[1, 2, 3, 4],\n",
    "                   [5, 6, 7, 8],\n",
    "                   [9, 10, 11, 12]])\n",
    "\n",
    "# Simple slicing\n",
    "slice_1 = arr_2d[1:3, 1:3]\n",
    "print(\"Slice 1:\")\n",
    "print(slice_1)\n",
    "\n",
    "# Slicing with specific rows and all columns\n",
    "slice_2 = arr_2d[0:2, :]\n",
    "print(\"\\nSlice 2:\")\n",
    "print(slice_2)\n",
    "\n",
    "# Slicing with all rows and specific columns\n",
    "slice_3 = arr_2d[:, 2:4]\n",
    "print(\"\\nSlice 3:\")\n",
    "print(slice_3)\n",
    "\n",
    "# Using negative indices for slicing\n",
    "slice_4 = arr_2d[-2:, -2:]\n",
    "print(\"\\nSlice 4:\")\n",
    "print(slice_4)\n",
    "\n",
    "# Using steps in slicing\n",
    "slice_5 = arr_2d[::2, ::2]\n",
    "print(\"\\nSlice 5:\")\n",
    "print(slice_5)\n",
    "\n",
    "# Use boolean indexing to get values greater than 5 and lesser than 10\n",
    "filtered_values = arr_2d[(arr_2d > 5) & (arr_2d < 10)]\n",
    "\n",
    "print(\"Filtered Values:\")\n",
    "print(filtered_values)"
   ]
  },
  {
   "cell_type": "code",
   "execution_count": 79,
   "id": "70060d67",
   "metadata": {},
   "outputs": [
    {
     "data": {
      "text/plain": [
       "array([ 1,  2,  3,  4,  5,  6,  7,  8,  9, 10, 11, 12])"
      ]
     },
     "execution_count": 79,
     "metadata": {},
     "output_type": "execute_result"
    }
   ],
   "source": [
    "# Find uniques\n",
    "np.unique(arr_2d)"
   ]
  },
  {
   "cell_type": "markdown",
   "id": "945974e6",
   "metadata": {},
   "source": [
    "#### Iteration"
   ]
  },
  {
   "cell_type": "code",
   "execution_count": 82,
   "id": "3e70e340",
   "metadata": {},
   "outputs": [
    {
     "data": {
      "text/plain": [
       "array([[[1, 2, 3],\n",
       "        [4, 5, 6]]])"
      ]
     },
     "execution_count": 82,
     "metadata": {},
     "output_type": "execute_result"
    }
   ],
   "source": [
    "var = np.array([[[1,2,3],[4,5,6]]])\n",
    "var"
   ]
  },
  {
   "cell_type": "code",
   "execution_count": 83,
   "id": "b7a52b7c",
   "metadata": {},
   "outputs": [
    {
     "name": "stdout",
     "output_type": "stream",
     "text": [
      "1\n",
      "2\n",
      "3\n",
      "4\n",
      "5\n",
      "6\n"
     ]
    }
   ],
   "source": [
    "for i in np.nditer(var):\n",
    "    print(i)"
   ]
  },
  {
   "cell_type": "code",
   "execution_count": 84,
   "id": "7e04133c",
   "metadata": {},
   "outputs": [
    {
     "name": "stdout",
     "output_type": "stream",
     "text": [
      "b'1'\n",
      "b'2'\n",
      "b'3'\n",
      "b'4'\n",
      "b'5'\n",
      "b'6'\n"
     ]
    }
   ],
   "source": [
    "for i in np.nditer(var,flags=['buffered'], op_dtypes = [\"S\"]):\n",
    "    print(i)"
   ]
  },
  {
   "cell_type": "code",
   "execution_count": 85,
   "id": "de775ef8",
   "metadata": {},
   "outputs": [
    {
     "name": "stdout",
     "output_type": "stream",
     "text": [
      "(0, 0, 0) 1\n",
      "(0, 0, 1) 2\n",
      "(0, 0, 2) 3\n",
      "(0, 1, 0) 4\n",
      "(0, 1, 1) 5\n",
      "(0, 1, 2) 6\n"
     ]
    }
   ],
   "source": [
    "for i,d in np.ndenumerate(var):\n",
    "    print(i,d)"
   ]
  },
  {
   "cell_type": "code",
   "execution_count": 86,
   "id": "1f577621",
   "metadata": {},
   "outputs": [
    {
     "name": "stdout",
     "output_type": "stream",
     "text": [
      "Original Array: [ 1 88  3  4  5]\n",
      "Copied Array: [99  2  3  4  5]\n",
      "Viewed Array: [ 1 88  3  4  5]\n"
     ]
    }
   ],
   "source": [
    "import numpy as np\n",
    "\n",
    "original_array = np.array([1, 2, 3, 4, 5])\n",
    "\n",
    "# Create a copy of the original array\n",
    "copied_array = original_array.copy()\n",
    "\n",
    "# Create a view of the original array\n",
    "viewed_array = original_array.view()\n",
    "\n",
    "# Modify the elements in the copy and view\n",
    "copied_array[0] = 99\n",
    "viewed_array[1] = 88\n",
    "\n",
    "print(\"Original Array:\", original_array)\n",
    "print(\"Copied Array:\", copied_array)\n",
    "print(\"Viewed Array:\", viewed_array)\n"
   ]
  },
  {
   "cell_type": "markdown",
   "id": "e6f3563b",
   "metadata": {},
   "source": [
    "#### Join and split function\n",
    "\n",
    "First make ensure that the data in both the array are equal in numbers"
   ]
  },
  {
   "cell_type": "code",
   "execution_count": 88,
   "id": "85e21e22",
   "metadata": {},
   "outputs": [
    {
     "name": "stdout",
     "output_type": "stream",
     "text": [
      "Concatenated 1D Arrays:\n",
      "[1 2 3 4 5 6]\n",
      "\n",
      "Concatenated 2D Arrays along Axis 0:\n",
      "[[ 1  2  3]\n",
      " [ 4  5  6]\n",
      " [ 7  8  9]\n",
      " [10 11 12]]\n",
      "\n",
      "Concatenated 2D Arrays along Axis 1:\n",
      "[[ 1  2  3  7  8  9]\n",
      " [ 4  5  6 10 11 12]]\n"
     ]
    }
   ],
   "source": [
    "import numpy as np\n",
    "\n",
    "# 1D arrays\n",
    "array1 = np.array([1, 2, 3])\n",
    "array2 = np.array([4, 5, 6])\n",
    "\n",
    "# Concatenate along the default axis (axis=0 for 1D arrays)\n",
    "concatenated_arrays_1d = np.concatenate((array1, array2))\n",
    "print(\"Concatenated 1D Arrays:\")\n",
    "print(concatenated_arrays_1d)\n",
    "\n",
    "# 2D arrays\n",
    "array2d_1 = np.array([[1, 2, 3], [4, 5, 6]])\n",
    "array2d_2 = np.array([[7, 8, 9], [10, 11, 12]])\n",
    "\n",
    "# Concatenate along axis 0 (rows)\n",
    "concatenated_arrays_axis0 = np.concatenate((array2d_1, array2d_2), axis=0)\n",
    "print(\"\\nConcatenated 2D Arrays along Axis 0:\")\n",
    "print(concatenated_arrays_axis0)\n",
    "\n",
    "# Concatenate along axis 1 (columns)\n",
    "concatenated_arrays_axis1 = np.concatenate((array2d_1, array2d_2), axis=1)\n",
    "print(\"\\nConcatenated 2D Arrays along Axis 1:\")\n",
    "print(concatenated_arrays_axis1)\n"
   ]
  },
  {
   "cell_type": "markdown",
   "id": "36e36e2b",
   "metadata": {},
   "source": [
    "Using stack"
   ]
  },
  {
   "cell_type": "code",
   "execution_count": 90,
   "id": "0d527bc3",
   "metadata": {},
   "outputs": [
    {
     "name": "stdout",
     "output_type": "stream",
     "text": [
      "Stacked 1D Arrays along Axis 0:\n",
      "[[1 2 3]\n",
      " [4 5 6]]\n",
      "Horizontal Stack:\n",
      "[1 2 3 4 5 6]\n",
      "\n",
      "Vertical Stack:\n",
      "[[1 2 3]\n",
      " [4 5 6]]\n",
      "\n",
      "Depth-wise Stack:\n",
      "[[[1 4]\n",
      "  [2 5]\n",
      "  [3 6]]]\n"
     ]
    }
   ],
   "source": [
    "import numpy as np\n",
    "\n",
    "# Create two 1D arrays\n",
    "array1 = np.array([1, 2, 3])\n",
    "array2 = np.array([4, 5, 6])\n",
    "\n",
    "# Stack along a new axis (axis=0)\n",
    "stacked_arrays_axis0 = np.stack((array1, array2), axis=0)\n",
    "print(\"Stacked 1D Arrays along Axis 0:\")\n",
    "print(stacked_arrays_axis0)\n",
    "\n",
    "# Horizontal stacking\n",
    "hstack_result = np.hstack((array1, array2))\n",
    "print(\"Horizontal Stack:\")\n",
    "print(hstack_result)\n",
    "\n",
    "# Vertical stacking\n",
    "vstack_result = np.vstack((array1, array2))\n",
    "print(\"\\nVertical Stack:\")\n",
    "print(vstack_result)\n",
    "\n",
    "# Depth-wise stacking of 2D arrays\n",
    "dstack_result = np.dstack((array1, array2))\n",
    "print(\"\\nDepth-wise Stack:\")\n",
    "print(dstack_result)"
   ]
  },
  {
   "cell_type": "code",
   "execution_count": 91,
   "id": "3c1079dc",
   "metadata": {},
   "outputs": [
    {
     "name": "stdout",
     "output_type": "stream",
     "text": [
      "Split 1D Array:\n",
      "[array([1, 2, 3]), array([4, 5, 6]), array([7, 8, 9])]\n",
      "\n",
      "Horizontal Split (axis=1) of 2D Array:\n",
      "[array([[ 1,  2],\n",
      "       [ 5,  6],\n",
      "       [ 9, 10]]), array([[ 3,  4],\n",
      "       [ 7,  8],\n",
      "       [11, 12]])]\n",
      "\n",
      "Vertical Split (axis=0) of 2D Array:\n",
      "[array([[1, 2, 3, 4]]), array([[5, 6, 7, 8]]), array([[ 9, 10, 11, 12]])]\n",
      "\n",
      "Depth-wise Split (axis=2) of 3D Array:\n",
      "[array([[[ 1],\n",
      "        [ 4]],\n",
      "\n",
      "       [[ 7],\n",
      "        [10]],\n",
      "\n",
      "       [[13],\n",
      "        [16]]]), array([[[ 2],\n",
      "        [ 5]],\n",
      "\n",
      "       [[ 8],\n",
      "        [11]],\n",
      "\n",
      "       [[14],\n",
      "        [17]]]), array([[[ 3],\n",
      "        [ 6]],\n",
      "\n",
      "       [[ 9],\n",
      "        [12]],\n",
      "\n",
      "       [[15],\n",
      "        [18]]])]\n"
     ]
    }
   ],
   "source": [
    "import numpy as np\n",
    "\n",
    "# Create a 1D array\n",
    "array1d = np.array([1, 2, 3, 4, 5, 6, 7, 8, 9])\n",
    "\n",
    "# Split the 1D array into three equal parts\n",
    "split_result_1d = np.split(array1d, 3)\n",
    "print(\"Split 1D Array:\")\n",
    "print(split_result_1d)\n",
    "\n",
    "# Create a 2D array\n",
    "array2d = np.array([[1, 2, 3, 4],\n",
    "                    [5, 6, 7, 8],\n",
    "                    [9, 10, 11, 12]])\n",
    "\n",
    "# Split the 2D array along the columns (axis=1)\n",
    "hsplit_result = np.hsplit(array2d, 2)\n",
    "print(\"\\nHorizontal Split (axis=1) of 2D Array:\")\n",
    "print(hsplit_result)\n",
    "\n",
    "# Split the 2D array along the rows (axis=0)\n",
    "vsplit_result = np.vsplit(array2d, 3)\n",
    "print(\"\\nVertical Split (axis=0) of 2D Array:\")\n",
    "print(vsplit_result)\n",
    "\n",
    "# Create a 3D array\n",
    "array3d = np.array([[[1, 2, 3], [4, 5, 6]],\n",
    "                    [[7, 8, 9], [10, 11, 12]],\n",
    "                    [[13, 14, 15], [16, 17, 18]]])\n",
    "\n",
    "# Split the 3D array along the depth (axis=2)\n",
    "dsplit_result = np.dsplit(array3d, 3)\n",
    "print(\"\\nDepth-wise Split (axis=2) of 3D Array:\")\n",
    "print(dsplit_result)\n"
   ]
  },
  {
   "cell_type": "markdown",
   "id": "c0970ccf",
   "metadata": {},
   "source": [
    "#### Search"
   ]
  },
  {
   "cell_type": "code",
   "execution_count": 92,
   "id": "1c60cabd",
   "metadata": {},
   "outputs": [
    {
     "name": "stdout",
     "output_type": "stream",
     "text": [
      "Array:\n",
      "[1 5 2 7 3 8 4 6]\n",
      "Indices where elements are greater than 5:\n",
      "(array([3, 5, 7]),)\n"
     ]
    }
   ],
   "source": [
    "import numpy as np\n",
    "\n",
    "# Create an array\n",
    "arr = np.array([1, 5, 2, 7, 3, 8, 4, 6])\n",
    "\n",
    "# Find indices where elements are greater than 5\n",
    "indices = np.where(arr > 5)\n",
    "\n",
    "print(\"Array:\")\n",
    "print(arr)\n",
    "print(\"Indices where elements are greater than 5:\")\n",
    "print(indices)\n"
   ]
  },
  {
   "cell_type": "code",
   "execution_count": 93,
   "id": "4431fcf5",
   "metadata": {},
   "outputs": [
    {
     "name": "stdout",
     "output_type": "stream",
     "text": [
      "Sorted Array:\n",
      "[2 4 5 7 9]\n",
      "Index where 6 should be inserted to maintain order: 3\n"
     ]
    }
   ],
   "source": [
    "import numpy as np\n",
    "\n",
    "# Create a sorted array\n",
    "arr_sorted = np.array([2, 4, 5, 7, 9])\n",
    "\n",
    "# Find the index where 6 should be inserted to maintain order\n",
    "index_insert = np.searchsorted(arr_sorted, 6)\n",
    "\n",
    "print(\"Sorted Array:\")\n",
    "print(arr_sorted)\n",
    "print(\"Index where 6 should be inserted to maintain order:\", index_insert)\n"
   ]
  },
  {
   "cell_type": "markdown",
   "id": "31bfabc6",
   "metadata": {},
   "source": [
    "#### Sorting"
   ]
  },
  {
   "cell_type": "code",
   "execution_count": 94,
   "id": "28e7fb30",
   "metadata": {},
   "outputs": [
    {
     "name": "stdout",
     "output_type": "stream",
     "text": [
      "Unsorted Array:\n",
      "[4 2 7 1 9]\n",
      "Sorted Array:\n",
      "[1 2 4 7 9]\n"
     ]
    }
   ],
   "source": [
    "import numpy as np\n",
    "\n",
    "# Create an unsorted array\n",
    "arr_unsorted = np.array([4, 2, 7, 1, 9])\n",
    "\n",
    "# Sort the array\n",
    "arr_sorted = np.sort(arr_unsorted)\n",
    "\n",
    "print(\"Unsorted Array:\")\n",
    "print(arr_unsorted)\n",
    "print(\"Sorted Array:\")\n",
    "print(arr_sorted)\n"
   ]
  },
  {
   "cell_type": "markdown",
   "id": "3f87c533",
   "metadata": {},
   "source": [
    "#### Insertion"
   ]
  },
  {
   "cell_type": "code",
   "execution_count": 95,
   "id": "79c8e73d",
   "metadata": {},
   "outputs": [
    {
     "name": "stdout",
     "output_type": "stream",
     "text": [
      "Original 2D Array:\n",
      "[[1 2 3]\n",
      " [4 5 6]\n",
      " [7 8 9]]\n",
      "\n",
      "2D Array after Inserting Row at Index 1:\n",
      "[[ 1  2  3]\n",
      " [10 11 12]\n",
      " [ 4  5  6]\n",
      " [ 7  8  9]]\n",
      "\n",
      "2D Array after Inserting Column at Index 2:\n",
      "[[ 1  2 99  3]\n",
      " [ 4  5 88  6]\n",
      " [ 7  8 77  9]]\n"
     ]
    }
   ],
   "source": [
    "import numpy as np\n",
    "\n",
    "# Create a 2D array\n",
    "arr_2d = np.array([[1, 2, 3],\n",
    "                   [4, 5, 6],\n",
    "                   [7, 8, 9]])\n",
    "\n",
    "# Insert a row with values [10, 11, 12] at index 1\n",
    "arr_2d_inserted_row = np.insert(arr_2d, 1, [10, 11, 12], axis=0)\n",
    "\n",
    "# Insert a column with values [99, 88, 77] at index 2\n",
    "arr_2d_inserted_col = np.insert(arr_2d, 2, [99, 88, 77], axis=1)\n",
    "\n",
    "print(\"Original 2D Array:\")\n",
    "print(arr_2d)\n",
    "\n",
    "print(\"\\n2D Array after Inserting Row at Index 1:\")\n",
    "print(arr_2d_inserted_row)\n",
    "\n",
    "print(\"\\n2D Array after Inserting Column at Index 2:\")\n",
    "print(arr_2d_inserted_col)\n"
   ]
  },
  {
   "cell_type": "code",
   "execution_count": 96,
   "id": "44b1ab1c",
   "metadata": {},
   "outputs": [
    {
     "name": "stdout",
     "output_type": "stream",
     "text": [
      "Original 1D Array:\n",
      "[1 2 3 4 5]\n",
      "\n",
      "1D Array after Deleting Element at Index 2:\n",
      "[1 2 4 5]\n",
      "\n",
      "Original 2D Array:\n",
      "[[1 2 3]\n",
      " [4 5 6]\n",
      " [7 8 9]]\n",
      "\n",
      "2D Array after Deleting Row at Index 1:\n",
      "[[1 2 3]\n",
      " [7 8 9]]\n",
      "\n",
      "2D Array after Deleting Column at Index 2:\n",
      "[[1 2]\n",
      " [4 5]\n",
      " [7 8]]\n"
     ]
    }
   ],
   "source": [
    "import numpy as np\n",
    "\n",
    "# Example 1: Deleting elements from a 1D array\n",
    "arr_1d = np.array([1, 2, 3, 4, 5])\n",
    "\n",
    "# Delete the element at index 2\n",
    "arr_1d_deleted = np.delete(arr_1d, 2)\n",
    "\n",
    "print(\"Original 1D Array:\")\n",
    "print(arr_1d)\n",
    "print(\"\\n1D Array after Deleting Element at Index 2:\")\n",
    "print(arr_1d_deleted)\n",
    "\n",
    "# Example 2: Deleting rows and columns from a 2D array\n",
    "arr_2d = np.array([[1, 2, 3],\n",
    "                   [4, 5, 6],\n",
    "                   [7, 8, 9]])\n",
    "\n",
    "# Delete the row at index 1\n",
    "arr_2d_deleted_row = np.delete(arr_2d, 1, axis=0)\n",
    "\n",
    "# Delete the column at index 2\n",
    "arr_2d_deleted_col = np.delete(arr_2d, 2, axis=1)\n",
    "\n",
    "print(\"\\nOriginal 2D Array:\")\n",
    "print(arr_2d)\n",
    "print(\"\\n2D Array after Deleting Row at Index 1:\")\n",
    "print(arr_2d_deleted_row)\n",
    "print(\"\\n2D Array after Deleting Column at Index 2:\")\n",
    "print(arr_2d_deleted_col)"
   ]
  },
  {
   "cell_type": "markdown",
   "id": "b51bd96c",
   "metadata": {},
   "source": [
    "#### Matrix Functions"
   ]
  },
  {
   "cell_type": "markdown",
   "id": "0cd0fd79",
   "metadata": {},
   "source": [
    "Dot Product"
   ]
  },
  {
   "cell_type": "code",
   "execution_count": 98,
   "id": "ec7277b7",
   "metadata": {},
   "outputs": [
    {
     "name": "stdout",
     "output_type": "stream",
     "text": [
      "Matrix 1:\n",
      "[[1 2 3]\n",
      " [4 5 6]]\n",
      "\n",
      "Matrix 2:\n",
      "[[ 7  8]\n",
      " [ 9 10]\n",
      " [11 12]]\n",
      "\n",
      "Dot Product Result:\n",
      "[[ 58  64]\n",
      " [139 154]]\n"
     ]
    }
   ],
   "source": [
    "matrix1 = np.matrix([[1, 2, 3],\n",
    "                    [4, 5, 6]])\n",
    "\n",
    "matrix2 = np.matrix([[7, 8],\n",
    "                    [9, 10],\n",
    "                    [11, 12]])\n",
    "\n",
    "# Compute the dot product using numpy.dot()\n",
    "dot_product_result = np.dot(matrix1, matrix2)\n",
    "\n",
    "# Alternatively, you can use the @ operator\n",
    "# dot_product_result = matrix1 @ matrix2\n",
    "\n",
    "print(\"Matrix 1:\")\n",
    "print(matrix1)\n",
    "\n",
    "print(\"\\nMatrix 2:\")\n",
    "print(matrix2)\n",
    "\n",
    "print(\"\\nDot Product Result:\")\n",
    "print(dot_product_result)"
   ]
  },
  {
   "cell_type": "code",
   "execution_count": 99,
   "id": "67f675c3",
   "metadata": {},
   "outputs": [
    {
     "name": "stdout",
     "output_type": "stream",
     "text": [
      "Matrix 1:\n",
      "[[1 2 3]\n",
      " [4 5 6]]\n",
      "\n",
      "Matrix 2:\n",
      "[[ 7  8]\n",
      " [ 9 10]\n",
      " [11 12]]\n",
      "\n",
      "Matrix 3:\n",
      "[[13 14]\n",
      " [15 16]]\n",
      "\n",
      "Dot Product Result:\n",
      "[[1714 1836]\n",
      " [4117 4410]]\n"
     ]
    }
   ],
   "source": [
    "import numpy as np\n",
    "\n",
    "# Create three matrices\n",
    "matrix1 = np.array([[1, 2, 3],\n",
    "                    [4, 5, 6]])\n",
    "\n",
    "matrix2 = np.array([[7, 8],\n",
    "                    [9, 10],\n",
    "                    [11, 12]])\n",
    "\n",
    "matrix3 = np.array([[13, 14],\n",
    "                    [15, 16]])\n",
    "\n",
    "# Compute the dot product of three matrices using numpy.linalg.multi_dot()\n",
    "dot_product_result = np.linalg.multi_dot([matrix1, matrix2, matrix3])\n",
    "\n",
    "print(\"Matrix 1:\")\n",
    "print(matrix1)\n",
    "\n",
    "print(\"\\nMatrix 2:\")\n",
    "print(matrix2)\n",
    "\n",
    "print(\"\\nMatrix 3:\")\n",
    "print(matrix3)\n",
    "\n",
    "print(\"\\nDot Product Result:\")\n",
    "print(dot_product_result)\n"
   ]
  },
  {
   "cell_type": "code",
   "execution_count": 4,
   "id": "8d26d064",
   "metadata": {},
   "outputs": [
    {
     "name": "stdout",
     "output_type": "stream",
     "text": [
      "Eigenvalues:\n",
      "[3. 2.]\n",
      "\n",
      "Eigenvectors:\n",
      "[[0.89442719 0.70710678]\n",
      " [0.4472136  0.70710678]]\n"
     ]
    }
   ],
   "source": [
    "import numpy as np\n",
    "from numpy.linalg import eig\n",
    "\n",
    "arr_5 = np.array([[4, -2], [1, 1]])\n",
    "arr_12 = np.array([[1, 2], [3, 4]])\n",
    "\n",
    "# Eigenvectors and Eigenvalues\n",
    "eigenvalues, eigenvectors = eig(arr_5)\n",
    "print(\"Eigenvalues:\")\n",
    "print(eigenvalues)\n",
    "print(\"\\nEigenvectors:\")\n",
    "print(eigenvectors)"
   ]
  },
  {
   "cell_type": "code",
   "execution_count": 6,
   "id": "8a7e6380",
   "metadata": {},
   "outputs": [
    {
     "name": "stdout",
     "output_type": "stream",
     "text": [
      "\n",
      "Vector Norm (Euclidean norm):\n",
      "4.69041575982343\n"
     ]
    }
   ],
   "source": [
    "from numpy.linalg import norm\n",
    "\n",
    "# Vector Norm (Euclidean norm)\n",
    "norm_result = norm(arr_5)\n",
    "print(\"\\nVector Norm (Euclidean norm):\")\n",
    "print(norm_result)"
   ]
  },
  {
   "cell_type": "code",
   "execution_count": 7,
   "id": "2e343cd4",
   "metadata": {},
   "outputs": [
    {
     "name": "stdout",
     "output_type": "stream",
     "text": [
      "\n",
      "Multiplicative Inverse of the matrix:\n",
      "[[ 0.16666667  0.33333333]\n",
      " [-0.16666667  0.66666667]]\n"
     ]
    }
   ],
   "source": [
    "from numpy.linalg import inv\n",
    "\n",
    "# Multiplicative Inverse (Inverse of a matrix)\n",
    "inverse_matrix = inv(arr_5)\n",
    "print(\"\\nMultiplicative Inverse of the matrix:\")\n",
    "print(inverse_matrix)"
   ]
  },
  {
   "cell_type": "code",
   "execution_count": 8,
   "id": "03416096",
   "metadata": {},
   "outputs": [
    {
     "name": "stdout",
     "output_type": "stream",
     "text": [
      "\n",
      "Condition number of the matrix:\n",
      "3.3699240762154825\n"
     ]
    }
   ],
   "source": [
    "from numpy.linalg import cond\n",
    "\n",
    "# Condition number of a matrix\n",
    "condition_number = cond(arr_5)\n",
    "print(\"\\nCondition number of the matrix:\")\n",
    "print(condition_number)"
   ]
  },
  {
   "cell_type": "code",
   "execution_count": 20,
   "id": "cc2bb21f",
   "metadata": {},
   "outputs": [
    {
     "name": "stdout",
     "output_type": "stream",
     "text": [
      "\n",
      "Determinant of the matrix:\n",
      "-2.0000000000000004\n"
     ]
    }
   ],
   "source": [
    "from numpy.linalg import det\n",
    "\n",
    "# Determinant of a matrix\n",
    "determinant_result = det(arr_12)\n",
    "print(\"\\nDeterminant of the matrix:\")\n",
    "print(determinant_result)"
   ]
  },
  {
   "cell_type": "code",
   "execution_count": null,
   "id": "63e51b7c",
   "metadata": {},
   "outputs": [],
   "source": [
    "# Raise matrix to the power of n\n",
    "# Given [[a, b], [c, d]]\n",
    "# [[a² + bc, ab +db], [ac + dc, d² + bc]\n",
    "LA.matrix_power(arr_5, 2)\n"
   ]
  },
  {
   "cell_type": "markdown",
   "id": "84e0003f",
   "metadata": {},
   "source": [
    "#### Comparision Functions"
   ]
  },
  {
   "cell_type": "code",
   "execution_count": 21,
   "id": "b50c556d",
   "metadata": {},
   "outputs": [
    {
     "name": "stdout",
     "output_type": "stream",
     "text": [
      "[False  True]\n",
      "[False  True]\n",
      "[ True False]\n",
      "[ True False]\n",
      "[ True  True]\n",
      "[False False]\n"
     ]
    }
   ],
   "source": [
    "carr_1 = np.array([2, 3])\n",
    "carr_2 = np.array([3, 2])\n",
    "# Returns boolean based on whether arr_1 value Comparison arr_2 value\n",
    "print(np.greater(carr_1, carr_2))\n",
    "print(np.greater_equal(carr_1, carr_2))\n",
    "print(np.less(carr_1, carr_2))\n",
    "print(np.less_equal(carr_1, carr_2))\n",
    "print(np.not_equal(carr_1, carr_2))\n",
    "print(np.equal(carr_1, carr_2))"
   ]
  },
  {
   "cell_type": "code",
   "execution_count": 22,
   "id": "daf478f3",
   "metadata": {},
   "outputs": [
    {
     "name": "stdout",
     "output_type": "stream",
     "text": [
      "Requirement already satisfied: numpy-financial in ./anaconda3/lib/python3.11/site-packages (1.0.0)\n",
      "Requirement already satisfied: numpy>=1.15 in ./anaconda3/lib/python3.11/site-packages (from numpy-financial) (1.24.3)\n",
      "Note: you may need to restart the kernel to use updated packages.\n"
     ]
    }
   ],
   "source": [
    "pip install numpy-financial"
   ]
  },
  {
   "cell_type": "markdown",
   "id": "e62b36b5",
   "metadata": {},
   "source": [
    "#### Financial Funcitons"
   ]
  },
  {
   "cell_type": "code",
   "execution_count": 23,
   "id": "e14a12ab",
   "metadata": {},
   "outputs": [
    {
     "name": "stdout",
     "output_type": "stream",
     "text": [
      "74066.27016650053\n"
     ]
    }
   ],
   "source": [
    "import numpy_financial as npf\n",
    "\n",
    "# Compute future value of $400 investment every month\n",
    "# with an annual rate of 8% after 10 years\n",
    "print(npf.fv(.08/12, 10*12, -400, -400))\n"
   ]
  },
  {
   "cell_type": "code",
   "execution_count": 24,
   "id": "2182aef3",
   "metadata": {},
   "outputs": [
    {
     "name": "stdout",
     "output_type": "stream",
     "text": [
      "[-23.125      -21.27825789 -19.41728047 -17.54195802 -15.65217996\n",
      " -13.74783486 -11.82881043  -9.89499353  -7.94627011  -5.98252529\n",
      "  -4.00364327  -2.00950737]\n",
      "[-239.5773551  -241.42409721 -243.28507463 -245.16039708 -247.05017514\n",
      " -248.95452024 -250.87354467 -252.80736157 -254.75608499 -256.71982981\n",
      " -258.69871183 -260.69284773]\n",
      "1   -239.58    -23.12    2760.42\n",
      "2   -241.42    -21.28    2519.0\n",
      "3   -243.29    -19.42    2275.71\n",
      "4   -245.16    -17.54    2030.55\n",
      "5   -247.05    -15.65    1783.5\n",
      "6   -248.95    -13.75    1534.55\n",
      "7   -250.87    -11.83    1283.67\n",
      "8   -252.81    -9.89    1030.87\n",
      "9   -254.76    -7.95    776.11\n",
      "10   -256.72    -5.98    519.39\n",
      "11   -258.7    -4.0    260.69\n",
      "12   -260.69    -2.01    0.0\n"
     ]
    }
   ],
   "source": [
    "# Calculate interest portion of payment on a loan of $3,000\n",
    "# at 9.25% per year compounded monthly\n",
    "# Period of loan (year)\n",
    "period = np.arange(1*12) + 1\n",
    "principle = 3000.00\n",
    "# Interest Payment\n",
    "ipmt = npf.ipmt(0.0925/12, period, 1*12, principle)\n",
    "print(ipmt)\n",
    "# Principle Payment\n",
    "ppmt = npf.ppmt(0.0925/12, period, 1*12, principle)\n",
    "print(ppmt)\n",
    "for payment in period:\n",
    "    index = payment - 1\n",
    "    principle = principle + ppmt[index]\n",
    "    print(f\"{payment}   {np.round(ppmt[index], 2)}    {np.round(ipmt[index],2)}    {np.round(principle, 2)}\")"
   ]
  },
  {
   "cell_type": "code",
   "execution_count": 25,
   "id": "7ba903da",
   "metadata": {},
   "outputs": [
    {
     "data": {
      "text/plain": [
       "21.8"
      ]
     },
     "execution_count": 25,
     "metadata": {},
     "output_type": "execute_result"
    }
   ],
   "source": [
    "# Compute number of payments to pay off $3,000 if you paid\n",
    "# $150 per month with an interest rate of 9.25%\n",
    "np.round(npf.nper(0.0925/12, -150, 3000.00), 2)"
   ]
  },
  {
   "cell_type": "code",
   "execution_count": 26,
   "id": "0b4a95da",
   "metadata": {},
   "outputs": [
    {
     "data": {
      "text/plain": [
       "2898.6"
      ]
     },
     "execution_count": 26,
     "metadata": {},
     "output_type": "execute_result"
    }
   ],
   "source": [
    "# Calculate net present value of cash flows of $4,000, $5,000\n",
    "# $6,000, $7,000 after $15,000 investment with .08 rate per period\n",
    "npf.npv(0.08, [-15000, 4000, 5000, 6000, 7000]).round(2)"
   ]
  },
  {
   "cell_type": "code",
   "execution_count": 28,
   "id": "36933f3d",
   "metadata": {},
   "outputs": [
    {
     "name": "stdout",
     "output_type": "stream",
     "text": [
      "Original Matrix:\n",
      "[[1 2]\n",
      " [3 4]]\n",
      "\n",
      "Result Matrix (Matrix Squared):\n",
      "[[ 7 10]\n",
      " [15 22]]\n"
     ]
    }
   ],
   "source": [
    "# Given [[a, b], [c, d]]\n",
    "# [[a² + bc, ab +db], [ac + dc, d² + bc]\n",
    "\n",
    "import numpy as np\n",
    "from numpy.linalg import matrix_power as mp\n",
    "\n",
    "# Example matrix\n",
    "arr_5 = np.array([[1, 2], [3, 4]])\n",
    "\n",
    "# Calculate matrix_power\n",
    "result_matrix = mp(arr_5, 2)\n",
    "\n",
    "print(\"Original Matrix:\")\n",
    "print(arr_5)\n",
    "\n",
    "print(\"\\nResult Matrix (Matrix Squared):\")\n",
    "print(result_matrix)"
   ]
  },
  {
   "cell_type": "code",
   "execution_count": null,
   "id": "fe6f084e",
   "metadata": {},
   "outputs": [],
   "source": []
  }
 ],
 "metadata": {
  "kernelspec": {
   "display_name": "Python 3 (ipykernel)",
   "language": "python",
   "name": "python3"
  },
  "language_info": {
   "codemirror_mode": {
    "name": "ipython",
    "version": 3
   },
   "file_extension": ".py",
   "mimetype": "text/x-python",
   "name": "python",
   "nbconvert_exporter": "python",
   "pygments_lexer": "ipython3",
   "version": "3.11.5"
  }
 },
 "nbformat": 4,
 "nbformat_minor": 5
}
